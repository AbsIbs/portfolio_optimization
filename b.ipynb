{
 "cells": [
  {
   "cell_type": "code",
   "execution_count": 1,
   "metadata": {},
   "outputs": [],
   "source": [
    "import yfinance as yf\n",
    "import pandas as pd\n",
    "import numpy as np\n",
    "import plotly\n",
    "import plotly.express as px"
   ]
  },
  {
   "cell_type": "code",
   "execution_count": 2,
   "metadata": {},
   "outputs": [],
   "source": [
    "DOW_30_TICKERS = [\n",
    "    \"AXP\",\n",
    "    \"AMGN\",\n",
    "    \"AAPL\",\n",
    "    \"BA\",\n",
    "    \"CAT\",\n",
    "    \"CSCO\",\n",
    "    \"CVX\",\n",
    "    \"GS\",\n",
    "    \"HD\",\n",
    "    \"HON\",\n",
    "    \"IBM\",\n",
    "    \"INTC\", \n",
    "    \"JNJ\",\n",
    "    \"KO\",\n",
    "    \"JPM\",\n",
    "    \"MCD\",\n",
    "    \"MMM\",\n",
    "    \"MRK\",\n",
    "    \"MSFT\",\n",
    "    \"NKE\",\n",
    "    \"PG\",\n",
    "    \"TRV\",\n",
    "    \"UNH\",\n",
    "    \"CRM\",\n",
    "    \"VZ\",\n",
    "    \"V\",\n",
    "    \"WBA\",\n",
    "    \"WMT\",\n",
    "    \"DIS\",\n",
    "    \"DOW\"\n",
    "]"
   ]
  },
  {
   "cell_type": "code",
   "execution_count": 3,
   "metadata": {},
   "outputs": [],
   "source": [
    "tickers = ' '.join(ticker for ticker in DOW_30_TICKERS)"
   ]
  },
  {
   "cell_type": "code",
   "execution_count": 4,
   "metadata": {},
   "outputs": [
    {
     "data": {
      "text/plain": [
       "'AXP AMGN AAPL BA CAT CSCO CVX GS HD HON IBM INTC JNJ KO JPM MCD MMM MRK MSFT NKE PG TRV UNH CRM VZ V WBA WMT DIS DOW'"
      ]
     },
     "execution_count": 4,
     "metadata": {},
     "output_type": "execute_result"
    }
   ],
   "source": [
    "tickers"
   ]
  },
  {
   "cell_type": "code",
   "execution_count": 71,
   "metadata": {},
   "outputs": [
    {
     "name": "stdout",
     "output_type": "stream",
     "text": [
      "[*********************100%***********************]  30 of 30 completed\n"
     ]
    }
   ],
   "source": [
    "data = yf.download(tickers, period='ytd')"
   ]
  },
  {
   "cell_type": "code",
   "execution_count": 83,
   "metadata": {},
   "outputs": [
    {
     "data": {
      "text/html": [
       "<div>\n",
       "<style scoped>\n",
       "    .dataframe tbody tr th:only-of-type {\n",
       "        vertical-align: middle;\n",
       "    }\n",
       "\n",
       "    .dataframe tbody tr th {\n",
       "        vertical-align: top;\n",
       "    }\n",
       "\n",
       "    .dataframe thead tr th {\n",
       "        text-align: left;\n",
       "    }\n",
       "\n",
       "    .dataframe thead tr:last-of-type th {\n",
       "        text-align: right;\n",
       "    }\n",
       "</style>\n",
       "<table border=\"1\" class=\"dataframe\">\n",
       "  <thead>\n",
       "    <tr>\n",
       "      <th></th>\n",
       "      <th colspan=\"10\" halign=\"left\">Adj Close</th>\n",
       "      <th>...</th>\n",
       "      <th colspan=\"10\" halign=\"left\">Volume</th>\n",
       "    </tr>\n",
       "    <tr>\n",
       "      <th></th>\n",
       "      <th>AAPL</th>\n",
       "      <th>AMGN</th>\n",
       "      <th>AXP</th>\n",
       "      <th>BA</th>\n",
       "      <th>CAT</th>\n",
       "      <th>CRM</th>\n",
       "      <th>CSCO</th>\n",
       "      <th>CVX</th>\n",
       "      <th>DIS</th>\n",
       "      <th>DOW</th>\n",
       "      <th>...</th>\n",
       "      <th>MRK</th>\n",
       "      <th>MSFT</th>\n",
       "      <th>NKE</th>\n",
       "      <th>PG</th>\n",
       "      <th>TRV</th>\n",
       "      <th>UNH</th>\n",
       "      <th>V</th>\n",
       "      <th>VZ</th>\n",
       "      <th>WBA</th>\n",
       "      <th>WMT</th>\n",
       "    </tr>\n",
       "    <tr>\n",
       "      <th>Date</th>\n",
       "      <th></th>\n",
       "      <th></th>\n",
       "      <th></th>\n",
       "      <th></th>\n",
       "      <th></th>\n",
       "      <th></th>\n",
       "      <th></th>\n",
       "      <th></th>\n",
       "      <th></th>\n",
       "      <th></th>\n",
       "      <th></th>\n",
       "      <th></th>\n",
       "      <th></th>\n",
       "      <th></th>\n",
       "      <th></th>\n",
       "      <th></th>\n",
       "      <th></th>\n",
       "      <th></th>\n",
       "      <th></th>\n",
       "      <th></th>\n",
       "      <th></th>\n",
       "    </tr>\n",
       "  </thead>\n",
       "  <tbody>\n",
       "    <tr>\n",
       "      <th>2022-01-03</th>\n",
       "      <td>181.778397</td>\n",
       "      <td>224.762848</td>\n",
       "      <td>167.313950</td>\n",
       "      <td>207.860001</td>\n",
       "      <td>206.000443</td>\n",
       "      <td>255.460007</td>\n",
       "      <td>62.362934</td>\n",
       "      <td>118.020889</td>\n",
       "      <td>156.759995</td>\n",
       "      <td>56.192051</td>\n",
       "      <td>...</td>\n",
       "      <td>9441200</td>\n",
       "      <td>28865100</td>\n",
       "      <td>5670500</td>\n",
       "      <td>9317300</td>\n",
       "      <td>1103400</td>\n",
       "      <td>3033600</td>\n",
       "      <td>7694500</td>\n",
       "      <td>18240100</td>\n",
       "      <td>7643300</td>\n",
       "      <td>6902200</td>\n",
       "    </tr>\n",
       "    <tr>\n",
       "      <th>2022-01-04</th>\n",
       "      <td>179.471344</td>\n",
       "      <td>225.903061</td>\n",
       "      <td>172.685181</td>\n",
       "      <td>213.630005</td>\n",
       "      <td>217.026932</td>\n",
       "      <td>248.229996</td>\n",
       "      <td>60.833408</td>\n",
       "      <td>120.168343</td>\n",
       "      <td>155.729996</td>\n",
       "      <td>57.713696</td>\n",
       "      <td>...</td>\n",
       "      <td>11981700</td>\n",
       "      <td>32674300</td>\n",
       "      <td>6064200</td>\n",
       "      <td>9253800</td>\n",
       "      <td>1684600</td>\n",
       "      <td>3908100</td>\n",
       "      <td>10629300</td>\n",
       "      <td>26376800</td>\n",
       "      <td>6744300</td>\n",
       "      <td>11310000</td>\n",
       "    </tr>\n",
       "    <tr>\n",
       "      <th>2022-01-05</th>\n",
       "      <td>174.697418</td>\n",
       "      <td>223.226013</td>\n",
       "      <td>170.845032</td>\n",
       "      <td>213.070007</td>\n",
       "      <td>218.688873</td>\n",
       "      <td>227.669998</td>\n",
       "      <td>59.870007</td>\n",
       "      <td>120.950134</td>\n",
       "      <td>155.190002</td>\n",
       "      <td>57.654408</td>\n",
       "      <td>...</td>\n",
       "      <td>17447900</td>\n",
       "      <td>40054300</td>\n",
       "      <td>5021000</td>\n",
       "      <td>9330200</td>\n",
       "      <td>1838400</td>\n",
       "      <td>3921100</td>\n",
       "      <td>9594600</td>\n",
       "      <td>28697300</td>\n",
       "      <td>8330900</td>\n",
       "      <td>11806000</td>\n",
       "    </tr>\n",
       "    <tr>\n",
       "      <th>2022-01-06</th>\n",
       "      <td>171.781143</td>\n",
       "      <td>223.255768</td>\n",
       "      <td>172.410583</td>\n",
       "      <td>211.339996</td>\n",
       "      <td>220.918060</td>\n",
       "      <td>229.149994</td>\n",
       "      <td>60.505653</td>\n",
       "      <td>121.979332</td>\n",
       "      <td>156.899994</td>\n",
       "      <td>57.545723</td>\n",
       "      <td>...</td>\n",
       "      <td>11359200</td>\n",
       "      <td>39646100</td>\n",
       "      <td>4144600</td>\n",
       "      <td>7556000</td>\n",
       "      <td>1390200</td>\n",
       "      <td>6555200</td>\n",
       "      <td>7877500</td>\n",
       "      <td>21563800</td>\n",
       "      <td>12076700</td>\n",
       "      <td>7276300</td>\n",
       "    </tr>\n",
       "    <tr>\n",
       "      <th>2022-01-07</th>\n",
       "      <td>171.950928</td>\n",
       "      <td>225.357742</td>\n",
       "      <td>173.886414</td>\n",
       "      <td>215.500000</td>\n",
       "      <td>223.107437</td>\n",
       "      <td>228.309998</td>\n",
       "      <td>60.714226</td>\n",
       "      <td>123.730942</td>\n",
       "      <td>157.830002</td>\n",
       "      <td>58.395470</td>\n",
       "      <td>...</td>\n",
       "      <td>15212000</td>\n",
       "      <td>32720000</td>\n",
       "      <td>5108000</td>\n",
       "      <td>6098500</td>\n",
       "      <td>1699600</td>\n",
       "      <td>5494200</td>\n",
       "      <td>10702100</td>\n",
       "      <td>26512500</td>\n",
       "      <td>7642000</td>\n",
       "      <td>6574500</td>\n",
       "    </tr>\n",
       "    <tr>\n",
       "      <th>...</th>\n",
       "      <td>...</td>\n",
       "      <td>...</td>\n",
       "      <td>...</td>\n",
       "      <td>...</td>\n",
       "      <td>...</td>\n",
       "      <td>...</td>\n",
       "      <td>...</td>\n",
       "      <td>...</td>\n",
       "      <td>...</td>\n",
       "      <td>...</td>\n",
       "      <td>...</td>\n",
       "      <td>...</td>\n",
       "      <td>...</td>\n",
       "      <td>...</td>\n",
       "      <td>...</td>\n",
       "      <td>...</td>\n",
       "      <td>...</td>\n",
       "      <td>...</td>\n",
       "      <td>...</td>\n",
       "      <td>...</td>\n",
       "      <td>...</td>\n",
       "    </tr>\n",
       "    <tr>\n",
       "      <th>2022-04-07</th>\n",
       "      <td>172.139999</td>\n",
       "      <td>251.639999</td>\n",
       "      <td>182.389999</td>\n",
       "      <td>177.970001</td>\n",
       "      <td>215.899994</td>\n",
       "      <td>200.160004</td>\n",
       "      <td>54.630001</td>\n",
       "      <td>167.100006</td>\n",
       "      <td>131.869995</td>\n",
       "      <td>61.250000</td>\n",
       "      <td>...</td>\n",
       "      <td>13104300</td>\n",
       "      <td>31411200</td>\n",
       "      <td>5320500</td>\n",
       "      <td>6889700</td>\n",
       "      <td>874800</td>\n",
       "      <td>2867000</td>\n",
       "      <td>6995100</td>\n",
       "      <td>22790600</td>\n",
       "      <td>9526400</td>\n",
       "      <td>9029400</td>\n",
       "    </tr>\n",
       "    <tr>\n",
       "      <th>2022-04-08</th>\n",
       "      <td>170.089996</td>\n",
       "      <td>252.020004</td>\n",
       "      <td>183.699997</td>\n",
       "      <td>175.199997</td>\n",
       "      <td>217.029999</td>\n",
       "      <td>197.169998</td>\n",
       "      <td>54.279999</td>\n",
       "      <td>169.929993</td>\n",
       "      <td>131.869995</td>\n",
       "      <td>61.680000</td>\n",
       "      <td>...</td>\n",
       "      <td>11408100</td>\n",
       "      <td>24347400</td>\n",
       "      <td>4876000</td>\n",
       "      <td>6043600</td>\n",
       "      <td>1120600</td>\n",
       "      <td>3985500</td>\n",
       "      <td>5438600</td>\n",
       "      <td>24848600</td>\n",
       "      <td>6162600</td>\n",
       "      <td>7760400</td>\n",
       "    </tr>\n",
       "    <tr>\n",
       "      <th>2022-04-11</th>\n",
       "      <td>165.750000</td>\n",
       "      <td>250.869995</td>\n",
       "      <td>177.570007</td>\n",
       "      <td>175.029999</td>\n",
       "      <td>216.050003</td>\n",
       "      <td>195.449997</td>\n",
       "      <td>52.880001</td>\n",
       "      <td>165.559998</td>\n",
       "      <td>130.649994</td>\n",
       "      <td>61.950001</td>\n",
       "      <td>...</td>\n",
       "      <td>14381000</td>\n",
       "      <td>34569300</td>\n",
       "      <td>6365400</td>\n",
       "      <td>6158400</td>\n",
       "      <td>1219500</td>\n",
       "      <td>3574000</td>\n",
       "      <td>6942700</td>\n",
       "      <td>33614900</td>\n",
       "      <td>7698500</td>\n",
       "      <td>8237600</td>\n",
       "    </tr>\n",
       "    <tr>\n",
       "      <th>2022-04-12</th>\n",
       "      <td>167.660004</td>\n",
       "      <td>250.039993</td>\n",
       "      <td>175.539993</td>\n",
       "      <td>176.279999</td>\n",
       "      <td>216.699997</td>\n",
       "      <td>194.809998</td>\n",
       "      <td>51.820000</td>\n",
       "      <td>169.009995</td>\n",
       "      <td>130.839996</td>\n",
       "      <td>63.259998</td>\n",
       "      <td>...</td>\n",
       "      <td>12543000</td>\n",
       "      <td>30966700</td>\n",
       "      <td>5146800</td>\n",
       "      <td>7221500</td>\n",
       "      <td>1116700</td>\n",
       "      <td>3575700</td>\n",
       "      <td>7446600</td>\n",
       "      <td>21136400</td>\n",
       "      <td>5168200</td>\n",
       "      <td>8920400</td>\n",
       "    </tr>\n",
       "    <tr>\n",
       "      <th>2022-04-13</th>\n",
       "      <td>170.399994</td>\n",
       "      <td>253.509995</td>\n",
       "      <td>179.589996</td>\n",
       "      <td>182.869995</td>\n",
       "      <td>218.270004</td>\n",
       "      <td>195.720001</td>\n",
       "      <td>52.150002</td>\n",
       "      <td>171.669998</td>\n",
       "      <td>132.350006</td>\n",
       "      <td>64.160004</td>\n",
       "      <td>...</td>\n",
       "      <td>12743200</td>\n",
       "      <td>21872900</td>\n",
       "      <td>5117800</td>\n",
       "      <td>5247000</td>\n",
       "      <td>847300</td>\n",
       "      <td>3009100</td>\n",
       "      <td>8052200</td>\n",
       "      <td>19797100</td>\n",
       "      <td>12003500</td>\n",
       "      <td>9759900</td>\n",
       "    </tr>\n",
       "  </tbody>\n",
       "</table>\n",
       "<p>71 rows × 180 columns</p>\n",
       "</div>"
      ],
      "text/plain": [
       "             Adj Close                                                  \\\n",
       "                  AAPL        AMGN         AXP          BA         CAT   \n",
       "Date                                                                     \n",
       "2022-01-03  181.778397  224.762848  167.313950  207.860001  206.000443   \n",
       "2022-01-04  179.471344  225.903061  172.685181  213.630005  217.026932   \n",
       "2022-01-05  174.697418  223.226013  170.845032  213.070007  218.688873   \n",
       "2022-01-06  171.781143  223.255768  172.410583  211.339996  220.918060   \n",
       "2022-01-07  171.950928  225.357742  173.886414  215.500000  223.107437   \n",
       "...                ...         ...         ...         ...         ...   \n",
       "2022-04-07  172.139999  251.639999  182.389999  177.970001  215.899994   \n",
       "2022-04-08  170.089996  252.020004  183.699997  175.199997  217.029999   \n",
       "2022-04-11  165.750000  250.869995  177.570007  175.029999  216.050003   \n",
       "2022-04-12  167.660004  250.039993  175.539993  176.279999  216.699997   \n",
       "2022-04-13  170.399994  253.509995  179.589996  182.869995  218.270004   \n",
       "\n",
       "                                                                      ...  \\\n",
       "                   CRM       CSCO         CVX         DIS        DOW  ...   \n",
       "Date                                                                  ...   \n",
       "2022-01-03  255.460007  62.362934  118.020889  156.759995  56.192051  ...   \n",
       "2022-01-04  248.229996  60.833408  120.168343  155.729996  57.713696  ...   \n",
       "2022-01-05  227.669998  59.870007  120.950134  155.190002  57.654408  ...   \n",
       "2022-01-06  229.149994  60.505653  121.979332  156.899994  57.545723  ...   \n",
       "2022-01-07  228.309998  60.714226  123.730942  157.830002  58.395470  ...   \n",
       "...                ...        ...         ...         ...        ...  ...   \n",
       "2022-04-07  200.160004  54.630001  167.100006  131.869995  61.250000  ...   \n",
       "2022-04-08  197.169998  54.279999  169.929993  131.869995  61.680000  ...   \n",
       "2022-04-11  195.449997  52.880001  165.559998  130.649994  61.950001  ...   \n",
       "2022-04-12  194.809998  51.820000  169.009995  130.839996  63.259998  ...   \n",
       "2022-04-13  195.720001  52.150002  171.669998  132.350006  64.160004  ...   \n",
       "\n",
       "              Volume                                                          \\\n",
       "                 MRK      MSFT      NKE       PG      TRV      UNH         V   \n",
       "Date                                                                           \n",
       "2022-01-03   9441200  28865100  5670500  9317300  1103400  3033600   7694500   \n",
       "2022-01-04  11981700  32674300  6064200  9253800  1684600  3908100  10629300   \n",
       "2022-01-05  17447900  40054300  5021000  9330200  1838400  3921100   9594600   \n",
       "2022-01-06  11359200  39646100  4144600  7556000  1390200  6555200   7877500   \n",
       "2022-01-07  15212000  32720000  5108000  6098500  1699600  5494200  10702100   \n",
       "...              ...       ...      ...      ...      ...      ...       ...   \n",
       "2022-04-07  13104300  31411200  5320500  6889700   874800  2867000   6995100   \n",
       "2022-04-08  11408100  24347400  4876000  6043600  1120600  3985500   5438600   \n",
       "2022-04-11  14381000  34569300  6365400  6158400  1219500  3574000   6942700   \n",
       "2022-04-12  12543000  30966700  5146800  7221500  1116700  3575700   7446600   \n",
       "2022-04-13  12743200  21872900  5117800  5247000   847300  3009100   8052200   \n",
       "\n",
       "                                          \n",
       "                  VZ       WBA       WMT  \n",
       "Date                                      \n",
       "2022-01-03  18240100   7643300   6902200  \n",
       "2022-01-04  26376800   6744300  11310000  \n",
       "2022-01-05  28697300   8330900  11806000  \n",
       "2022-01-06  21563800  12076700   7276300  \n",
       "2022-01-07  26512500   7642000   6574500  \n",
       "...              ...       ...       ...  \n",
       "2022-04-07  22790600   9526400   9029400  \n",
       "2022-04-08  24848600   6162600   7760400  \n",
       "2022-04-11  33614900   7698500   8237600  \n",
       "2022-04-12  21136400   5168200   8920400  \n",
       "2022-04-13  19797100  12003500   9759900  \n",
       "\n",
       "[71 rows x 180 columns]"
      ]
     },
     "execution_count": 83,
     "metadata": {},
     "output_type": "execute_result"
    }
   ],
   "source": [
    "data"
   ]
  },
  {
   "cell_type": "code",
   "execution_count": 70,
   "metadata": {},
   "outputs": [
    {
     "data": {
      "text/html": [
       "<div>\n",
       "<style scoped>\n",
       "    .dataframe tbody tr th:only-of-type {\n",
       "        vertical-align: middle;\n",
       "    }\n",
       "\n",
       "    .dataframe tbody tr th {\n",
       "        vertical-align: top;\n",
       "    }\n",
       "\n",
       "    .dataframe thead th {\n",
       "        text-align: right;\n",
       "    }\n",
       "</style>\n",
       "<table border=\"1\" class=\"dataframe\">\n",
       "  <thead>\n",
       "    <tr style=\"text-align: right;\">\n",
       "      <th></th>\n",
       "      <th>Date</th>\n",
       "      <th>variable_0</th>\n",
       "      <th>variable_1</th>\n",
       "      <th>value</th>\n",
       "    </tr>\n",
       "  </thead>\n",
       "  <tbody>\n",
       "    <tr>\n",
       "      <th>0</th>\n",
       "      <td>2022-01-03</td>\n",
       "      <td>AAPL</td>\n",
       "      <td>Adj Close</td>\n",
       "      <td>1.817784e+02</td>\n",
       "    </tr>\n",
       "    <tr>\n",
       "      <th>1</th>\n",
       "      <td>2022-01-04</td>\n",
       "      <td>AAPL</td>\n",
       "      <td>Adj Close</td>\n",
       "      <td>1.794713e+02</td>\n",
       "    </tr>\n",
       "    <tr>\n",
       "      <th>2</th>\n",
       "      <td>2022-01-05</td>\n",
       "      <td>AAPL</td>\n",
       "      <td>Adj Close</td>\n",
       "      <td>1.746974e+02</td>\n",
       "    </tr>\n",
       "    <tr>\n",
       "      <th>3</th>\n",
       "      <td>2022-01-06</td>\n",
       "      <td>AAPL</td>\n",
       "      <td>Adj Close</td>\n",
       "      <td>1.717811e+02</td>\n",
       "    </tr>\n",
       "    <tr>\n",
       "      <th>4</th>\n",
       "      <td>2022-01-07</td>\n",
       "      <td>AAPL</td>\n",
       "      <td>Adj Close</td>\n",
       "      <td>1.719509e+02</td>\n",
       "    </tr>\n",
       "    <tr>\n",
       "      <th>...</th>\n",
       "      <td>...</td>\n",
       "      <td>...</td>\n",
       "      <td>...</td>\n",
       "      <td>...</td>\n",
       "    </tr>\n",
       "    <tr>\n",
       "      <th>12775</th>\n",
       "      <td>2022-04-07</td>\n",
       "      <td>WMT</td>\n",
       "      <td>Volume</td>\n",
       "      <td>9.029400e+06</td>\n",
       "    </tr>\n",
       "    <tr>\n",
       "      <th>12776</th>\n",
       "      <td>2022-04-08</td>\n",
       "      <td>WMT</td>\n",
       "      <td>Volume</td>\n",
       "      <td>7.760400e+06</td>\n",
       "    </tr>\n",
       "    <tr>\n",
       "      <th>12777</th>\n",
       "      <td>2022-04-11</td>\n",
       "      <td>WMT</td>\n",
       "      <td>Volume</td>\n",
       "      <td>8.237600e+06</td>\n",
       "    </tr>\n",
       "    <tr>\n",
       "      <th>12778</th>\n",
       "      <td>2022-04-12</td>\n",
       "      <td>WMT</td>\n",
       "      <td>Volume</td>\n",
       "      <td>8.918900e+06</td>\n",
       "    </tr>\n",
       "    <tr>\n",
       "      <th>12779</th>\n",
       "      <td>2022-04-13</td>\n",
       "      <td>WMT</td>\n",
       "      <td>Volume</td>\n",
       "      <td>6.010935e+06</td>\n",
       "    </tr>\n",
       "  </tbody>\n",
       "</table>\n",
       "<p>12780 rows × 4 columns</p>\n",
       "</div>"
      ],
      "text/plain": [
       "            Date variable_0 variable_1         value\n",
       "0     2022-01-03       AAPL  Adj Close  1.817784e+02\n",
       "1     2022-01-04       AAPL  Adj Close  1.794713e+02\n",
       "2     2022-01-05       AAPL  Adj Close  1.746974e+02\n",
       "3     2022-01-06       AAPL  Adj Close  1.717811e+02\n",
       "4     2022-01-07       AAPL  Adj Close  1.719509e+02\n",
       "...          ...        ...        ...           ...\n",
       "12775 2022-04-07        WMT     Volume  9.029400e+06\n",
       "12776 2022-04-08        WMT     Volume  7.760400e+06\n",
       "12777 2022-04-11        WMT     Volume  8.237600e+06\n",
       "12778 2022-04-12        WMT     Volume  8.918900e+06\n",
       "12779 2022-04-13        WMT     Volume  6.010935e+06\n",
       "\n",
       "[12780 rows x 4 columns]"
      ]
     },
     "execution_count": 70,
     "metadata": {},
     "output_type": "execute_result"
    }
   ],
   "source": [
    "df_3 = data.reset_index().melt('Date')\n",
    "df_3"
   ]
  },
  {
   "cell_type": "code",
   "execution_count": 116,
   "metadata": {},
   "outputs": [
    {
     "data": {
      "text/html": [
       "<div>\n",
       "<style scoped>\n",
       "    .dataframe tbody tr th:only-of-type {\n",
       "        vertical-align: middle;\n",
       "    }\n",
       "\n",
       "    .dataframe tbody tr th {\n",
       "        vertical-align: top;\n",
       "    }\n",
       "\n",
       "    .dataframe thead th {\n",
       "        text-align: right;\n",
       "    }\n",
       "</style>\n",
       "<table border=\"1\" class=\"dataframe\">\n",
       "  <thead>\n",
       "    <tr style=\"text-align: right;\">\n",
       "      <th>variable_1</th>\n",
       "      <th>Date</th>\n",
       "      <th>variable_0</th>\n",
       "      <th>Adj Close</th>\n",
       "      <th>Close</th>\n",
       "      <th>High</th>\n",
       "      <th>Low</th>\n",
       "      <th>Open</th>\n",
       "      <th>Volume</th>\n",
       "    </tr>\n",
       "  </thead>\n",
       "  <tbody>\n",
       "    <tr>\n",
       "      <th>0</th>\n",
       "      <td>2022-01-03</td>\n",
       "      <td>AAPL</td>\n",
       "      <td>181.778397</td>\n",
       "      <td>182.009995</td>\n",
       "      <td>182.880005</td>\n",
       "      <td>177.710007</td>\n",
       "      <td>177.830002</td>\n",
       "      <td>104487900.0</td>\n",
       "    </tr>\n",
       "    <tr>\n",
       "      <th>1</th>\n",
       "      <td>2022-01-03</td>\n",
       "      <td>AMGN</td>\n",
       "      <td>224.762848</td>\n",
       "      <td>226.690002</td>\n",
       "      <td>226.970001</td>\n",
       "      <td>222.029999</td>\n",
       "      <td>223.630005</td>\n",
       "      <td>2742800.0</td>\n",
       "    </tr>\n",
       "    <tr>\n",
       "      <th>2</th>\n",
       "      <td>2022-01-03</td>\n",
       "      <td>AXP</td>\n",
       "      <td>167.313950</td>\n",
       "      <td>168.210007</td>\n",
       "      <td>168.399994</td>\n",
       "      <td>164.399994</td>\n",
       "      <td>164.509995</td>\n",
       "      <td>3236400.0</td>\n",
       "    </tr>\n",
       "    <tr>\n",
       "      <th>3</th>\n",
       "      <td>2022-01-03</td>\n",
       "      <td>BA</td>\n",
       "      <td>207.860001</td>\n",
       "      <td>207.860001</td>\n",
       "      <td>210.550003</td>\n",
       "      <td>203.339996</td>\n",
       "      <td>204.000000</td>\n",
       "      <td>9060200.0</td>\n",
       "    </tr>\n",
       "    <tr>\n",
       "      <th>4</th>\n",
       "      <td>2022-01-03</td>\n",
       "      <td>CAT</td>\n",
       "      <td>206.000443</td>\n",
       "      <td>207.000000</td>\n",
       "      <td>208.600006</td>\n",
       "      <td>205.800003</td>\n",
       "      <td>207.330002</td>\n",
       "      <td>2055600.0</td>\n",
       "    </tr>\n",
       "    <tr>\n",
       "      <th>...</th>\n",
       "      <td>...</td>\n",
       "      <td>...</td>\n",
       "      <td>...</td>\n",
       "      <td>...</td>\n",
       "      <td>...</td>\n",
       "      <td>...</td>\n",
       "      <td>...</td>\n",
       "      <td>...</td>\n",
       "    </tr>\n",
       "    <tr>\n",
       "      <th>2125</th>\n",
       "      <td>2022-04-13</td>\n",
       "      <td>UNH</td>\n",
       "      <td>535.979980</td>\n",
       "      <td>535.979980</td>\n",
       "      <td>536.830017</td>\n",
       "      <td>528.623413</td>\n",
       "      <td>533.320007</td>\n",
       "      <td>1711915.0</td>\n",
       "    </tr>\n",
       "    <tr>\n",
       "      <th>2126</th>\n",
       "      <td>2022-04-13</td>\n",
       "      <td>V</td>\n",
       "      <td>211.750000</td>\n",
       "      <td>211.750000</td>\n",
       "      <td>212.625000</td>\n",
       "      <td>207.171005</td>\n",
       "      <td>210.429993</td>\n",
       "      <td>4357072.0</td>\n",
       "    </tr>\n",
       "    <tr>\n",
       "      <th>2127</th>\n",
       "      <td>2022-04-13</td>\n",
       "      <td>VZ</td>\n",
       "      <td>54.240002</td>\n",
       "      <td>54.240002</td>\n",
       "      <td>54.369999</td>\n",
       "      <td>53.650002</td>\n",
       "      <td>53.590000</td>\n",
       "      <td>12581483.0</td>\n",
       "    </tr>\n",
       "    <tr>\n",
       "      <th>2128</th>\n",
       "      <td>2022-04-13</td>\n",
       "      <td>WBA</td>\n",
       "      <td>44.599998</td>\n",
       "      <td>44.599998</td>\n",
       "      <td>47.110001</td>\n",
       "      <td>44.064999</td>\n",
       "      <td>44.419998</td>\n",
       "      <td>8142396.0</td>\n",
       "    </tr>\n",
       "    <tr>\n",
       "      <th>2129</th>\n",
       "      <td>2022-04-13</td>\n",
       "      <td>WMT</td>\n",
       "      <td>157.240005</td>\n",
       "      <td>157.240005</td>\n",
       "      <td>157.789993</td>\n",
       "      <td>153.350006</td>\n",
       "      <td>153.449997</td>\n",
       "      <td>6010935.0</td>\n",
       "    </tr>\n",
       "  </tbody>\n",
       "</table>\n",
       "<p>2130 rows × 8 columns</p>\n",
       "</div>"
      ],
      "text/plain": [
       "variable_1       Date variable_0   Adj Close       Close        High  \\\n",
       "0          2022-01-03       AAPL  181.778397  182.009995  182.880005   \n",
       "1          2022-01-03       AMGN  224.762848  226.690002  226.970001   \n",
       "2          2022-01-03        AXP  167.313950  168.210007  168.399994   \n",
       "3          2022-01-03         BA  207.860001  207.860001  210.550003   \n",
       "4          2022-01-03        CAT  206.000443  207.000000  208.600006   \n",
       "...               ...        ...         ...         ...         ...   \n",
       "2125       2022-04-13        UNH  535.979980  535.979980  536.830017   \n",
       "2126       2022-04-13          V  211.750000  211.750000  212.625000   \n",
       "2127       2022-04-13         VZ   54.240002   54.240002   54.369999   \n",
       "2128       2022-04-13        WBA   44.599998   44.599998   47.110001   \n",
       "2129       2022-04-13        WMT  157.240005  157.240005  157.789993   \n",
       "\n",
       "variable_1         Low        Open       Volume  \n",
       "0           177.710007  177.830002  104487900.0  \n",
       "1           222.029999  223.630005    2742800.0  \n",
       "2           164.399994  164.509995    3236400.0  \n",
       "3           203.339996  204.000000    9060200.0  \n",
       "4           205.800003  207.330002    2055600.0  \n",
       "...                ...         ...          ...  \n",
       "2125        528.623413  533.320007    1711915.0  \n",
       "2126        207.171005  210.429993    4357072.0  \n",
       "2127         53.650002   53.590000   12581483.0  \n",
       "2128         44.064999   44.419998    8142396.0  \n",
       "2129        153.350006  153.449997    6010935.0  \n",
       "\n",
       "[2130 rows x 8 columns]"
      ]
     },
     "execution_count": 116,
     "metadata": {},
     "output_type": "execute_result"
    }
   ],
   "source": [
    "df_4 = df_3.pivot(index = ['Date', 'variable_0'], columns = 'variable_1', values='value').reset_index()\n",
    "df_4"
   ]
  },
  {
   "cell_type": "code",
   "execution_count": 117,
   "metadata": {},
   "outputs": [
    {
     "data": {
      "text/html": [
       "<div>\n",
       "<style scoped>\n",
       "    .dataframe tbody tr th:only-of-type {\n",
       "        vertical-align: middle;\n",
       "    }\n",
       "\n",
       "    .dataframe tbody tr th {\n",
       "        vertical-align: top;\n",
       "    }\n",
       "\n",
       "    .dataframe thead th {\n",
       "        text-align: right;\n",
       "    }\n",
       "</style>\n",
       "<table border=\"1\" class=\"dataframe\">\n",
       "  <thead>\n",
       "    <tr style=\"text-align: right;\">\n",
       "      <th>variable_1</th>\n",
       "      <th>Date</th>\n",
       "      <th>ticker</th>\n",
       "      <th>Adj Close</th>\n",
       "      <th>Close</th>\n",
       "      <th>High</th>\n",
       "      <th>Low</th>\n",
       "      <th>Open</th>\n",
       "      <th>Volume</th>\n",
       "    </tr>\n",
       "  </thead>\n",
       "  <tbody>\n",
       "    <tr>\n",
       "      <th>0</th>\n",
       "      <td>2022-01-03</td>\n",
       "      <td>AAPL</td>\n",
       "      <td>181.778397</td>\n",
       "      <td>182.009995</td>\n",
       "      <td>182.880005</td>\n",
       "      <td>177.710007</td>\n",
       "      <td>177.830002</td>\n",
       "      <td>104487900.0</td>\n",
       "    </tr>\n",
       "    <tr>\n",
       "      <th>1</th>\n",
       "      <td>2022-01-03</td>\n",
       "      <td>AMGN</td>\n",
       "      <td>224.762848</td>\n",
       "      <td>226.690002</td>\n",
       "      <td>226.970001</td>\n",
       "      <td>222.029999</td>\n",
       "      <td>223.630005</td>\n",
       "      <td>2742800.0</td>\n",
       "    </tr>\n",
       "    <tr>\n",
       "      <th>2</th>\n",
       "      <td>2022-01-03</td>\n",
       "      <td>AXP</td>\n",
       "      <td>167.313950</td>\n",
       "      <td>168.210007</td>\n",
       "      <td>168.399994</td>\n",
       "      <td>164.399994</td>\n",
       "      <td>164.509995</td>\n",
       "      <td>3236400.0</td>\n",
       "    </tr>\n",
       "    <tr>\n",
       "      <th>3</th>\n",
       "      <td>2022-01-03</td>\n",
       "      <td>BA</td>\n",
       "      <td>207.860001</td>\n",
       "      <td>207.860001</td>\n",
       "      <td>210.550003</td>\n",
       "      <td>203.339996</td>\n",
       "      <td>204.000000</td>\n",
       "      <td>9060200.0</td>\n",
       "    </tr>\n",
       "    <tr>\n",
       "      <th>4</th>\n",
       "      <td>2022-01-03</td>\n",
       "      <td>CAT</td>\n",
       "      <td>206.000443</td>\n",
       "      <td>207.000000</td>\n",
       "      <td>208.600006</td>\n",
       "      <td>205.800003</td>\n",
       "      <td>207.330002</td>\n",
       "      <td>2055600.0</td>\n",
       "    </tr>\n",
       "    <tr>\n",
       "      <th>...</th>\n",
       "      <td>...</td>\n",
       "      <td>...</td>\n",
       "      <td>...</td>\n",
       "      <td>...</td>\n",
       "      <td>...</td>\n",
       "      <td>...</td>\n",
       "      <td>...</td>\n",
       "      <td>...</td>\n",
       "    </tr>\n",
       "    <tr>\n",
       "      <th>2125</th>\n",
       "      <td>2022-04-13</td>\n",
       "      <td>UNH</td>\n",
       "      <td>535.979980</td>\n",
       "      <td>535.979980</td>\n",
       "      <td>536.830017</td>\n",
       "      <td>528.623413</td>\n",
       "      <td>533.320007</td>\n",
       "      <td>1711915.0</td>\n",
       "    </tr>\n",
       "    <tr>\n",
       "      <th>2126</th>\n",
       "      <td>2022-04-13</td>\n",
       "      <td>V</td>\n",
       "      <td>211.750000</td>\n",
       "      <td>211.750000</td>\n",
       "      <td>212.625000</td>\n",
       "      <td>207.171005</td>\n",
       "      <td>210.429993</td>\n",
       "      <td>4357072.0</td>\n",
       "    </tr>\n",
       "    <tr>\n",
       "      <th>2127</th>\n",
       "      <td>2022-04-13</td>\n",
       "      <td>VZ</td>\n",
       "      <td>54.240002</td>\n",
       "      <td>54.240002</td>\n",
       "      <td>54.369999</td>\n",
       "      <td>53.650002</td>\n",
       "      <td>53.590000</td>\n",
       "      <td>12581483.0</td>\n",
       "    </tr>\n",
       "    <tr>\n",
       "      <th>2128</th>\n",
       "      <td>2022-04-13</td>\n",
       "      <td>WBA</td>\n",
       "      <td>44.599998</td>\n",
       "      <td>44.599998</td>\n",
       "      <td>47.110001</td>\n",
       "      <td>44.064999</td>\n",
       "      <td>44.419998</td>\n",
       "      <td>8142396.0</td>\n",
       "    </tr>\n",
       "    <tr>\n",
       "      <th>2129</th>\n",
       "      <td>2022-04-13</td>\n",
       "      <td>WMT</td>\n",
       "      <td>157.240005</td>\n",
       "      <td>157.240005</td>\n",
       "      <td>157.789993</td>\n",
       "      <td>153.350006</td>\n",
       "      <td>153.449997</td>\n",
       "      <td>6010935.0</td>\n",
       "    </tr>\n",
       "  </tbody>\n",
       "</table>\n",
       "<p>2130 rows × 8 columns</p>\n",
       "</div>"
      ],
      "text/plain": [
       "variable_1       Date ticker   Adj Close       Close        High         Low  \\\n",
       "0          2022-01-03   AAPL  181.778397  182.009995  182.880005  177.710007   \n",
       "1          2022-01-03   AMGN  224.762848  226.690002  226.970001  222.029999   \n",
       "2          2022-01-03    AXP  167.313950  168.210007  168.399994  164.399994   \n",
       "3          2022-01-03     BA  207.860001  207.860001  210.550003  203.339996   \n",
       "4          2022-01-03    CAT  206.000443  207.000000  208.600006  205.800003   \n",
       "...               ...    ...         ...         ...         ...         ...   \n",
       "2125       2022-04-13    UNH  535.979980  535.979980  536.830017  528.623413   \n",
       "2126       2022-04-13      V  211.750000  211.750000  212.625000  207.171005   \n",
       "2127       2022-04-13     VZ   54.240002   54.240002   54.369999   53.650002   \n",
       "2128       2022-04-13    WBA   44.599998   44.599998   47.110001   44.064999   \n",
       "2129       2022-04-13    WMT  157.240005  157.240005  157.789993  153.350006   \n",
       "\n",
       "variable_1        Open       Volume  \n",
       "0           177.830002  104487900.0  \n",
       "1           223.630005    2742800.0  \n",
       "2           164.509995    3236400.0  \n",
       "3           204.000000    9060200.0  \n",
       "4           207.330002    2055600.0  \n",
       "...                ...          ...  \n",
       "2125        533.320007    1711915.0  \n",
       "2126        210.429993    4357072.0  \n",
       "2127         53.590000   12581483.0  \n",
       "2128         44.419998    8142396.0  \n",
       "2129        153.449997    6010935.0  \n",
       "\n",
       "[2130 rows x 8 columns]"
      ]
     },
     "execution_count": 117,
     "metadata": {},
     "output_type": "execute_result"
    }
   ],
   "source": [
    "df_4 = df_4.rename({'variable_0': 'ticker'}, axis = 1)\n",
    "df_4"
   ]
  },
  {
   "cell_type": "code",
   "execution_count": 120,
   "metadata": {},
   "outputs": [
    {
     "name": "stdout",
     "output_type": "stream",
     "text": [
      "<class 'pandas.core.frame.DataFrame'>\n",
      "RangeIndex: 2130 entries, 0 to 2129\n",
      "Data columns (total 8 columns):\n",
      " #   Column     Non-Null Count  Dtype         \n",
      "---  ------     --------------  -----         \n",
      " 0   Date       2130 non-null   datetime64[ns]\n",
      " 1   ticker     2130 non-null   object        \n",
      " 2   Adj Close  2130 non-null   float64       \n",
      " 3   Close      2130 non-null   float64       \n",
      " 4   High       2130 non-null   float64       \n",
      " 5   Low        2130 non-null   float64       \n",
      " 6   Open       2130 non-null   float64       \n",
      " 7   Volume     2130 non-null   float64       \n",
      "dtypes: datetime64[ns](1), float64(6), object(1)\n",
      "memory usage: 133.2+ KB\n"
     ]
    }
   ],
   "source": [
    "df_4.info()"
   ]
  },
  {
   "cell_type": "code",
   "execution_count": null,
   "metadata": {},
   "outputs": [],
   "source": []
  },
  {
   "cell_type": "code",
   "execution_count": null,
   "metadata": {},
   "outputs": [],
   "source": []
  },
  {
   "cell_type": "code",
   "execution_count": 17,
   "metadata": {},
   "outputs": [
    {
     "name": "stdout",
     "output_type": "stream",
     "text": [
      "[*********************100%***********************]  1 of 1 completed\n"
     ]
    }
   ],
   "source": [
    "data_2 = yf.download('AAPL', period='ytd')"
   ]
  },
  {
   "cell_type": "code",
   "execution_count": 20,
   "metadata": {},
   "outputs": [
    {
     "data": {
      "text/plain": [
       "['Open', 'High', 'Low', 'Close', 'Adj Close', 'Volume']"
      ]
     },
     "execution_count": 20,
     "metadata": {},
     "output_type": "execute_result"
    }
   ],
   "source": [
    "list(data_2.columns)"
   ]
  },
  {
   "cell_type": "code",
   "execution_count": 40,
   "metadata": {},
   "outputs": [
    {
     "data": {
      "application/vnd.plotly.v1+json": {
       "config": {
        "plotlyServerURL": "https://plot.ly"
       },
       "data": [
        {
         "customdata": [
          [
           420.8900146484375,
           424.54998779296875,
           415.7900085449219,
           95729200
          ],
          [
           419.7699890136719,
           426.8399963378906,
           418.4200134277344,
           106219100
          ],
          [
           429.8900146484375,
           435.67999267578125,
           424.79998779296875,
           144954800
          ],
          [
           433.5899963378906,
           441.07000732421875,
           433.19000244140625,
           102676900
          ],
          [
           438,
           444.8599853515625,
           437.2200012207031,
           106345500
          ],
          [
           444.3399963378906,
           446.4599914550781,
           440.67999267578125,
           88349800
          ],
          [
           445.8599853515625,
           450.5799865722656,
           445.8599853515625,
           74650400
          ],
          [
           446.9100036621094,
           448.489990234375,
           443.7099914550781,
           79426100
          ],
          [
           445.94000244140625,
           450.5,
           444.760009765625,
           64736900
          ],
          [
           451.1600036621094,
           452.9800109863281,
           448.42999267578125,
           77101300
          ],
          [
           452.05999755859375,
           455.9100036621094,
           450.05999755859375,
           68529800
          ],
          [
           460.0199890136719,
           462.07000732421875,
           457.17999267578125,
           86581500
          ],
          [
           460.3399963378906,
           461.20001220703125,
           456.4700012207031,
           79666900
          ],
          [
           457.8900146484375,
           458.760009765625,
           451.1600036621094,
           121699900
          ],
          [
           453.30999755859375,
           453.4599914550781,
           449.1400146484375,
           89001500
          ],
          [
           453.1300048828125,
           456.9100036621094,
           452.260009765625,
           59601000
          ],
          [
           455.2200012207031,
           457.8299865722656,
           449.82000732421875,
           74214500
          ],
          [
           446.8900146484375,
           448.92999267578125,
           443.4700012207031,
           106898000
          ],
          [
           445.5899963378906,
           450.69000244140625,
           443.5299987792969,
           78097200
          ],
          [
           447.9700012207031,
           450.6300048828125,
           445.94000244140625,
           79236300
          ],
          [
           444.1099853515625,
           445,
           439.3900146484375,
           89770500
          ],
          [
           443.0799865722656,
           445.75,
           436.6499938964844,
           84160500
          ]
         ],
         "hovertemplate": "Date=%{x}<br>Adj Close=%{y}<br>Open=%{customdata[0]}<br>High=%{customdata[1]}<br>Low=%{customdata[2]}<br>Volume=%{customdata[3]}<extra></extra>",
         "legendgroup": "",
         "line": {
          "color": "#636efa",
          "dash": "solid"
         },
         "marker": {
          "symbol": "circle"
         },
         "mode": "lines",
         "name": "",
         "orientation": "v",
         "showlegend": false,
         "type": "scatter",
         "x": [
          "2022-03-14T00:00:00",
          "2022-03-15T00:00:00",
          "2022-03-16T00:00:00",
          "2022-03-17T00:00:00",
          "2022-03-18T00:00:00",
          "2022-03-21T00:00:00",
          "2022-03-22T00:00:00",
          "2022-03-23T00:00:00",
          "2022-03-24T00:00:00",
          "2022-03-25T00:00:00",
          "2022-03-28T00:00:00",
          "2022-03-29T00:00:00",
          "2022-03-30T00:00:00",
          "2022-03-31T00:00:00",
          "2022-04-01T00:00:00",
          "2022-04-04T00:00:00",
          "2022-04-05T00:00:00",
          "2022-04-06T00:00:00",
          "2022-04-07T00:00:00",
          "2022-04-08T00:00:00",
          "2022-04-11T00:00:00",
          "2022-04-12T00:00:00"
         ],
         "xaxis": "x",
         "y": [
          415.70855712890625,
          424.85015869140625,
          434.2708740234375,
          439.7040100097656,
          444.5199890136719,
          444.3900146484375,
          449.5899963378906,
          443.79998779296875,
          450.489990234375,
          452.69000244140625,
          455.9100036621094,
          461.54998779296875,
          458.70001220703125,
          451.6400146484375,
          452.9200134277344,
          456.79998779296875,
          451.0299987792969,
          446.5199890136719,
          448.7699890136719,
          447.57000732421875,
          439.9200134277344,
          438.2900085449219
         ],
         "yaxis": "y"
        }
       ],
       "layout": {
        "height": 720,
        "legend": {
         "tracegroupgap": 0
        },
        "margin": {
         "t": 60
        },
        "template": {
         "data": {
          "bar": [
           {
            "error_x": {
             "color": "#2a3f5f"
            },
            "error_y": {
             "color": "#2a3f5f"
            },
            "marker": {
             "line": {
              "color": "#E5ECF6",
              "width": 0.5
             },
             "pattern": {
              "fillmode": "overlay",
              "size": 10,
              "solidity": 0.2
             }
            },
            "type": "bar"
           }
          ],
          "barpolar": [
           {
            "marker": {
             "line": {
              "color": "#E5ECF6",
              "width": 0.5
             },
             "pattern": {
              "fillmode": "overlay",
              "size": 10,
              "solidity": 0.2
             }
            },
            "type": "barpolar"
           }
          ],
          "carpet": [
           {
            "aaxis": {
             "endlinecolor": "#2a3f5f",
             "gridcolor": "white",
             "linecolor": "white",
             "minorgridcolor": "white",
             "startlinecolor": "#2a3f5f"
            },
            "baxis": {
             "endlinecolor": "#2a3f5f",
             "gridcolor": "white",
             "linecolor": "white",
             "minorgridcolor": "white",
             "startlinecolor": "#2a3f5f"
            },
            "type": "carpet"
           }
          ],
          "choropleth": [
           {
            "colorbar": {
             "outlinewidth": 0,
             "ticks": ""
            },
            "type": "choropleth"
           }
          ],
          "contour": [
           {
            "colorbar": {
             "outlinewidth": 0,
             "ticks": ""
            },
            "colorscale": [
             [
              0,
              "#0d0887"
             ],
             [
              0.1111111111111111,
              "#46039f"
             ],
             [
              0.2222222222222222,
              "#7201a8"
             ],
             [
              0.3333333333333333,
              "#9c179e"
             ],
             [
              0.4444444444444444,
              "#bd3786"
             ],
             [
              0.5555555555555556,
              "#d8576b"
             ],
             [
              0.6666666666666666,
              "#ed7953"
             ],
             [
              0.7777777777777778,
              "#fb9f3a"
             ],
             [
              0.8888888888888888,
              "#fdca26"
             ],
             [
              1,
              "#f0f921"
             ]
            ],
            "type": "contour"
           }
          ],
          "contourcarpet": [
           {
            "colorbar": {
             "outlinewidth": 0,
             "ticks": ""
            },
            "type": "contourcarpet"
           }
          ],
          "heatmap": [
           {
            "colorbar": {
             "outlinewidth": 0,
             "ticks": ""
            },
            "colorscale": [
             [
              0,
              "#0d0887"
             ],
             [
              0.1111111111111111,
              "#46039f"
             ],
             [
              0.2222222222222222,
              "#7201a8"
             ],
             [
              0.3333333333333333,
              "#9c179e"
             ],
             [
              0.4444444444444444,
              "#bd3786"
             ],
             [
              0.5555555555555556,
              "#d8576b"
             ],
             [
              0.6666666666666666,
              "#ed7953"
             ],
             [
              0.7777777777777778,
              "#fb9f3a"
             ],
             [
              0.8888888888888888,
              "#fdca26"
             ],
             [
              1,
              "#f0f921"
             ]
            ],
            "type": "heatmap"
           }
          ],
          "heatmapgl": [
           {
            "colorbar": {
             "outlinewidth": 0,
             "ticks": ""
            },
            "colorscale": [
             [
              0,
              "#0d0887"
             ],
             [
              0.1111111111111111,
              "#46039f"
             ],
             [
              0.2222222222222222,
              "#7201a8"
             ],
             [
              0.3333333333333333,
              "#9c179e"
             ],
             [
              0.4444444444444444,
              "#bd3786"
             ],
             [
              0.5555555555555556,
              "#d8576b"
             ],
             [
              0.6666666666666666,
              "#ed7953"
             ],
             [
              0.7777777777777778,
              "#fb9f3a"
             ],
             [
              0.8888888888888888,
              "#fdca26"
             ],
             [
              1,
              "#f0f921"
             ]
            ],
            "type": "heatmapgl"
           }
          ],
          "histogram": [
           {
            "marker": {
             "pattern": {
              "fillmode": "overlay",
              "size": 10,
              "solidity": 0.2
             }
            },
            "type": "histogram"
           }
          ],
          "histogram2d": [
           {
            "colorbar": {
             "outlinewidth": 0,
             "ticks": ""
            },
            "colorscale": [
             [
              0,
              "#0d0887"
             ],
             [
              0.1111111111111111,
              "#46039f"
             ],
             [
              0.2222222222222222,
              "#7201a8"
             ],
             [
              0.3333333333333333,
              "#9c179e"
             ],
             [
              0.4444444444444444,
              "#bd3786"
             ],
             [
              0.5555555555555556,
              "#d8576b"
             ],
             [
              0.6666666666666666,
              "#ed7953"
             ],
             [
              0.7777777777777778,
              "#fb9f3a"
             ],
             [
              0.8888888888888888,
              "#fdca26"
             ],
             [
              1,
              "#f0f921"
             ]
            ],
            "type": "histogram2d"
           }
          ],
          "histogram2dcontour": [
           {
            "colorbar": {
             "outlinewidth": 0,
             "ticks": ""
            },
            "colorscale": [
             [
              0,
              "#0d0887"
             ],
             [
              0.1111111111111111,
              "#46039f"
             ],
             [
              0.2222222222222222,
              "#7201a8"
             ],
             [
              0.3333333333333333,
              "#9c179e"
             ],
             [
              0.4444444444444444,
              "#bd3786"
             ],
             [
              0.5555555555555556,
              "#d8576b"
             ],
             [
              0.6666666666666666,
              "#ed7953"
             ],
             [
              0.7777777777777778,
              "#fb9f3a"
             ],
             [
              0.8888888888888888,
              "#fdca26"
             ],
             [
              1,
              "#f0f921"
             ]
            ],
            "type": "histogram2dcontour"
           }
          ],
          "mesh3d": [
           {
            "colorbar": {
             "outlinewidth": 0,
             "ticks": ""
            },
            "type": "mesh3d"
           }
          ],
          "parcoords": [
           {
            "line": {
             "colorbar": {
              "outlinewidth": 0,
              "ticks": ""
             }
            },
            "type": "parcoords"
           }
          ],
          "pie": [
           {
            "automargin": true,
            "type": "pie"
           }
          ],
          "scatter": [
           {
            "marker": {
             "colorbar": {
              "outlinewidth": 0,
              "ticks": ""
             }
            },
            "type": "scatter"
           }
          ],
          "scatter3d": [
           {
            "line": {
             "colorbar": {
              "outlinewidth": 0,
              "ticks": ""
             }
            },
            "marker": {
             "colorbar": {
              "outlinewidth": 0,
              "ticks": ""
             }
            },
            "type": "scatter3d"
           }
          ],
          "scattercarpet": [
           {
            "marker": {
             "colorbar": {
              "outlinewidth": 0,
              "ticks": ""
             }
            },
            "type": "scattercarpet"
           }
          ],
          "scattergeo": [
           {
            "marker": {
             "colorbar": {
              "outlinewidth": 0,
              "ticks": ""
             }
            },
            "type": "scattergeo"
           }
          ],
          "scattergl": [
           {
            "marker": {
             "colorbar": {
              "outlinewidth": 0,
              "ticks": ""
             }
            },
            "type": "scattergl"
           }
          ],
          "scattermapbox": [
           {
            "marker": {
             "colorbar": {
              "outlinewidth": 0,
              "ticks": ""
             }
            },
            "type": "scattermapbox"
           }
          ],
          "scatterpolar": [
           {
            "marker": {
             "colorbar": {
              "outlinewidth": 0,
              "ticks": ""
             }
            },
            "type": "scatterpolar"
           }
          ],
          "scatterpolargl": [
           {
            "marker": {
             "colorbar": {
              "outlinewidth": 0,
              "ticks": ""
             }
            },
            "type": "scatterpolargl"
           }
          ],
          "scatterternary": [
           {
            "marker": {
             "colorbar": {
              "outlinewidth": 0,
              "ticks": ""
             }
            },
            "type": "scatterternary"
           }
          ],
          "surface": [
           {
            "colorbar": {
             "outlinewidth": 0,
             "ticks": ""
            },
            "colorscale": [
             [
              0,
              "#0d0887"
             ],
             [
              0.1111111111111111,
              "#46039f"
             ],
             [
              0.2222222222222222,
              "#7201a8"
             ],
             [
              0.3333333333333333,
              "#9c179e"
             ],
             [
              0.4444444444444444,
              "#bd3786"
             ],
             [
              0.5555555555555556,
              "#d8576b"
             ],
             [
              0.6666666666666666,
              "#ed7953"
             ],
             [
              0.7777777777777778,
              "#fb9f3a"
             ],
             [
              0.8888888888888888,
              "#fdca26"
             ],
             [
              1,
              "#f0f921"
             ]
            ],
            "type": "surface"
           }
          ],
          "table": [
           {
            "cells": {
             "fill": {
              "color": "#EBF0F8"
             },
             "line": {
              "color": "white"
             }
            },
            "header": {
             "fill": {
              "color": "#C8D4E3"
             },
             "line": {
              "color": "white"
             }
            },
            "type": "table"
           }
          ]
         },
         "layout": {
          "annotationdefaults": {
           "arrowcolor": "#2a3f5f",
           "arrowhead": 0,
           "arrowwidth": 1
          },
          "autotypenumbers": "strict",
          "coloraxis": {
           "colorbar": {
            "outlinewidth": 0,
            "ticks": ""
           }
          },
          "colorscale": {
           "diverging": [
            [
             0,
             "#8e0152"
            ],
            [
             0.1,
             "#c51b7d"
            ],
            [
             0.2,
             "#de77ae"
            ],
            [
             0.3,
             "#f1b6da"
            ],
            [
             0.4,
             "#fde0ef"
            ],
            [
             0.5,
             "#f7f7f7"
            ],
            [
             0.6,
             "#e6f5d0"
            ],
            [
             0.7,
             "#b8e186"
            ],
            [
             0.8,
             "#7fbc41"
            ],
            [
             0.9,
             "#4d9221"
            ],
            [
             1,
             "#276419"
            ]
           ],
           "sequential": [
            [
             0,
             "#0d0887"
            ],
            [
             0.1111111111111111,
             "#46039f"
            ],
            [
             0.2222222222222222,
             "#7201a8"
            ],
            [
             0.3333333333333333,
             "#9c179e"
            ],
            [
             0.4444444444444444,
             "#bd3786"
            ],
            [
             0.5555555555555556,
             "#d8576b"
            ],
            [
             0.6666666666666666,
             "#ed7953"
            ],
            [
             0.7777777777777778,
             "#fb9f3a"
            ],
            [
             0.8888888888888888,
             "#fdca26"
            ],
            [
             1,
             "#f0f921"
            ]
           ],
           "sequentialminus": [
            [
             0,
             "#0d0887"
            ],
            [
             0.1111111111111111,
             "#46039f"
            ],
            [
             0.2222222222222222,
             "#7201a8"
            ],
            [
             0.3333333333333333,
             "#9c179e"
            ],
            [
             0.4444444444444444,
             "#bd3786"
            ],
            [
             0.5555555555555556,
             "#d8576b"
            ],
            [
             0.6666666666666666,
             "#ed7953"
            ],
            [
             0.7777777777777778,
             "#fb9f3a"
            ],
            [
             0.8888888888888888,
             "#fdca26"
            ],
            [
             1,
             "#f0f921"
            ]
           ]
          },
          "colorway": [
           "#636efa",
           "#EF553B",
           "#00cc96",
           "#ab63fa",
           "#FFA15A",
           "#19d3f3",
           "#FF6692",
           "#B6E880",
           "#FF97FF",
           "#FECB52"
          ],
          "font": {
           "color": "#2a3f5f"
          },
          "geo": {
           "bgcolor": "white",
           "lakecolor": "white",
           "landcolor": "#E5ECF6",
           "showlakes": true,
           "showland": true,
           "subunitcolor": "white"
          },
          "hoverlabel": {
           "align": "left"
          },
          "hovermode": "closest",
          "mapbox": {
           "style": "light"
          },
          "paper_bgcolor": "white",
          "plot_bgcolor": "#E5ECF6",
          "polar": {
           "angularaxis": {
            "gridcolor": "white",
            "linecolor": "white",
            "ticks": ""
           },
           "bgcolor": "#E5ECF6",
           "radialaxis": {
            "gridcolor": "white",
            "linecolor": "white",
            "ticks": ""
           }
          },
          "scene": {
           "xaxis": {
            "backgroundcolor": "#E5ECF6",
            "gridcolor": "white",
            "gridwidth": 2,
            "linecolor": "white",
            "showbackground": true,
            "ticks": "",
            "zerolinecolor": "white"
           },
           "yaxis": {
            "backgroundcolor": "#E5ECF6",
            "gridcolor": "white",
            "gridwidth": 2,
            "linecolor": "white",
            "showbackground": true,
            "ticks": "",
            "zerolinecolor": "white"
           },
           "zaxis": {
            "backgroundcolor": "#E5ECF6",
            "gridcolor": "white",
            "gridwidth": 2,
            "linecolor": "white",
            "showbackground": true,
            "ticks": "",
            "zerolinecolor": "white"
           }
          },
          "shapedefaults": {
           "line": {
            "color": "#2a3f5f"
           }
          },
          "ternary": {
           "aaxis": {
            "gridcolor": "white",
            "linecolor": "white",
            "ticks": ""
           },
           "baxis": {
            "gridcolor": "white",
            "linecolor": "white",
            "ticks": ""
           },
           "bgcolor": "#E5ECF6",
           "caxis": {
            "gridcolor": "white",
            "linecolor": "white",
            "ticks": ""
           }
          },
          "title": {
           "x": 0.05
          },
          "xaxis": {
           "automargin": true,
           "gridcolor": "white",
           "linecolor": "white",
           "ticks": "",
           "title": {
            "standoff": 15
           },
           "zerolinecolor": "white",
           "zerolinewidth": 2
          },
          "yaxis": {
           "automargin": true,
           "gridcolor": "white",
           "linecolor": "white",
           "ticks": "",
           "title": {
            "standoff": 15
           },
           "zerolinecolor": "white",
           "zerolinewidth": 2
          }
         }
        },
        "width": 1280,
        "xaxis": {
         "anchor": "y",
         "domain": [
          0,
          1
         ],
         "title": {
          "text": "Date"
         }
        },
        "yaxis": {
         "anchor": "x",
         "domain": [
          0,
          1
         ],
         "title": {
          "text": "Adj Close"
         }
        }
       }
      }
     },
     "metadata": {},
     "output_type": "display_data"
    }
   ],
   "source": [
    "    fig = px.line(\n",
    "        data_2.reset_index(),\n",
    "        x = 'Date',\n",
    "        y = 'Adj Close',\n",
    "        hover_data = ['Open', 'High', 'Low', 'Volume'],\n",
    "        height = 720,\n",
    "        width = 1280\n",
    "    )\n",
    "\n",
    "    fig.show()"
   ]
  },
  {
   "cell_type": "code",
   "execution_count": null,
   "metadata": {},
   "outputs": [],
   "source": []
  },
  {
   "cell_type": "code",
   "execution_count": null,
   "metadata": {},
   "outputs": [],
   "source": []
  },
  {
   "cell_type": "code",
   "execution_count": null,
   "metadata": {},
   "outputs": [],
   "source": []
  }
 ],
 "metadata": {
  "interpreter": {
   "hash": "4fb49300cbc9de07d703657ca13b94e33890de28540a9234edc42eac781a4e31"
  },
  "kernelspec": {
   "display_name": "Python 3.8.5 ('learn-env')",
   "language": "python",
   "name": "python3"
  },
  "language_info": {
   "codemirror_mode": {
    "name": "ipython",
    "version": 3
   },
   "file_extension": ".py",
   "mimetype": "text/x-python",
   "name": "python",
   "nbconvert_exporter": "python",
   "pygments_lexer": "ipython3",
   "version": "3.8.5"
  },
  "orig_nbformat": 4
 },
 "nbformat": 4,
 "nbformat_minor": 2
}
